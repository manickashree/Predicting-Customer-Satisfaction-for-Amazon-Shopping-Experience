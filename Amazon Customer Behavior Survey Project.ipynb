{
 "cells": [
  {
   "cell_type": "code",
   "execution_count": 1,
   "id": "e69c2478-0690-4609-b0fc-80550446a198",
   "metadata": {},
   "outputs": [],
   "source": [
    "## Importing the required libraries for this project\n",
    "import pandas as pd\n",
    "import numpy as np\n",
    "import matplotlib.pyplot as plt\n",
    "import seaborn as sns\n",
    "import statsmodels.api as sm\n",
    "import seaborn as sns\n",
    "from sklearn.preprocessing import MinMaxScaler\n",
    "from sklearn import tree\n",
    "from sklearn.model_selection import train_test_split\n",
    "from sklearn.preprocessing import LabelEncoder\n",
    "from sklearn.neighbors import KNeighborsClassifier\n",
    "from sklearn.preprocessing import StandardScaler\n",
    "from sklearn.linear_model import LassoCV\n",
    "from sklearn.linear_model import ElasticNet, Lasso,  BayesianRidge, LassoLarsIC\n",
    "from sklearn.neighbors import KNeighborsClassifier\n",
    "from sklearn import metrics\n",
    "from sklearn.metrics import classification_report\n",
    "from sklearn.tree import DecisionTreeClassifier\n",
    "from xgboost import XGBClassifier\n",
    "from sklearn.cluster import KMeans\n",
    "from sklearn.ensemble import RandomForestClassifier"
   ]
  },
  {
   "cell_type": "code",
   "execution_count": 2,
   "id": "61159e97-fa3f-4fe4-b3ce-a234e448ff34",
   "metadata": {
    "scrolled": true
   },
   "outputs": [
    {
     "data": {
      "text/html": [
       "<div>\n",
       "<style scoped>\n",
       "    .dataframe tbody tr th:only-of-type {\n",
       "        vertical-align: middle;\n",
       "    }\n",
       "\n",
       "    .dataframe tbody tr th {\n",
       "        vertical-align: top;\n",
       "    }\n",
       "\n",
       "    .dataframe thead th {\n",
       "        text-align: right;\n",
       "    }\n",
       "</style>\n",
       "<table border=\"1\" class=\"dataframe\">\n",
       "  <thead>\n",
       "    <tr style=\"text-align: right;\">\n",
       "      <th></th>\n",
       "      <th>Timestamp</th>\n",
       "      <th>age</th>\n",
       "      <th>Gender</th>\n",
       "      <th>Purchase_Frequency</th>\n",
       "      <th>Purchase_Categories</th>\n",
       "      <th>Personalized_Recommendation_Frequency</th>\n",
       "      <th>Browsing_Frequency</th>\n",
       "      <th>Product_Search_Method</th>\n",
       "      <th>Search_Result_Exploration</th>\n",
       "      <th>Customer_Reviews_Importance</th>\n",
       "      <th>...</th>\n",
       "      <th>Saveforlater_Frequency</th>\n",
       "      <th>Review_Left</th>\n",
       "      <th>Review_Reliability</th>\n",
       "      <th>Review_Helpfulness</th>\n",
       "      <th>Personalized_Recommendation_Frequency</th>\n",
       "      <th>Recommendation_Helpfulness</th>\n",
       "      <th>Rating_Accuracy</th>\n",
       "      <th>Shopping_Satisfaction</th>\n",
       "      <th>Service_Appreciation</th>\n",
       "      <th>Improvement_Areas</th>\n",
       "    </tr>\n",
       "  </thead>\n",
       "  <tbody>\n",
       "    <tr>\n",
       "      <th>0</th>\n",
       "      <td>2023/06/04 1:28:19 PM GMT+5:30</td>\n",
       "      <td>23</td>\n",
       "      <td>Female</td>\n",
       "      <td>Few times a month</td>\n",
       "      <td>Beauty and Personal Care</td>\n",
       "      <td>Yes</td>\n",
       "      <td>Few times a week</td>\n",
       "      <td>Keyword</td>\n",
       "      <td>Multiple pages</td>\n",
       "      <td>1</td>\n",
       "      <td>...</td>\n",
       "      <td>Sometimes</td>\n",
       "      <td>Yes</td>\n",
       "      <td>Occasionally</td>\n",
       "      <td>Yes</td>\n",
       "      <td>2</td>\n",
       "      <td>Yes</td>\n",
       "      <td>1</td>\n",
       "      <td>1</td>\n",
       "      <td>Competitive prices</td>\n",
       "      <td>Reducing packaging waste</td>\n",
       "    </tr>\n",
       "    <tr>\n",
       "      <th>1</th>\n",
       "      <td>2023/06/04 2:30:44 PM GMT+5:30</td>\n",
       "      <td>23</td>\n",
       "      <td>Female</td>\n",
       "      <td>Once a month</td>\n",
       "      <td>Clothing and Fashion</td>\n",
       "      <td>Yes</td>\n",
       "      <td>Few times a month</td>\n",
       "      <td>Keyword</td>\n",
       "      <td>Multiple pages</td>\n",
       "      <td>1</td>\n",
       "      <td>...</td>\n",
       "      <td>Rarely</td>\n",
       "      <td>No</td>\n",
       "      <td>Heavily</td>\n",
       "      <td>Yes</td>\n",
       "      <td>2</td>\n",
       "      <td>Sometimes</td>\n",
       "      <td>3</td>\n",
       "      <td>2</td>\n",
       "      <td>Wide product selection</td>\n",
       "      <td>Reducing packaging waste</td>\n",
       "    </tr>\n",
       "    <tr>\n",
       "      <th>2</th>\n",
       "      <td>2023/06/04 5:04:56 PM GMT+5:30</td>\n",
       "      <td>24</td>\n",
       "      <td>Prefer not to say</td>\n",
       "      <td>Few times a month</td>\n",
       "      <td>Groceries and Gourmet Food;Clothing and Fashion</td>\n",
       "      <td>No</td>\n",
       "      <td>Few times a month</td>\n",
       "      <td>Keyword</td>\n",
       "      <td>Multiple pages</td>\n",
       "      <td>2</td>\n",
       "      <td>...</td>\n",
       "      <td>Rarely</td>\n",
       "      <td>No</td>\n",
       "      <td>Occasionally</td>\n",
       "      <td>No</td>\n",
       "      <td>4</td>\n",
       "      <td>No</td>\n",
       "      <td>3</td>\n",
       "      <td>3</td>\n",
       "      <td>Competitive prices</td>\n",
       "      <td>Product quality and accuracy</td>\n",
       "    </tr>\n",
       "    <tr>\n",
       "      <th>3</th>\n",
       "      <td>2023/06/04 5:13:00 PM GMT+5:30</td>\n",
       "      <td>24</td>\n",
       "      <td>Female</td>\n",
       "      <td>Once a month</td>\n",
       "      <td>Beauty and Personal Care;Clothing and Fashion;...</td>\n",
       "      <td>Sometimes</td>\n",
       "      <td>Few times a month</td>\n",
       "      <td>Keyword</td>\n",
       "      <td>First page</td>\n",
       "      <td>5</td>\n",
       "      <td>...</td>\n",
       "      <td>Sometimes</td>\n",
       "      <td>Yes</td>\n",
       "      <td>Heavily</td>\n",
       "      <td>Yes</td>\n",
       "      <td>3</td>\n",
       "      <td>Sometimes</td>\n",
       "      <td>3</td>\n",
       "      <td>4</td>\n",
       "      <td>Competitive prices</td>\n",
       "      <td>Product quality and accuracy</td>\n",
       "    </tr>\n",
       "    <tr>\n",
       "      <th>4</th>\n",
       "      <td>2023/06/04 5:28:06 PM GMT+5:30</td>\n",
       "      <td>22</td>\n",
       "      <td>Female</td>\n",
       "      <td>Less than once a month</td>\n",
       "      <td>Beauty and Personal Care;Clothing and Fashion</td>\n",
       "      <td>Yes</td>\n",
       "      <td>Few times a month</td>\n",
       "      <td>Filter</td>\n",
       "      <td>Multiple pages</td>\n",
       "      <td>1</td>\n",
       "      <td>...</td>\n",
       "      <td>Rarely</td>\n",
       "      <td>No</td>\n",
       "      <td>Heavily</td>\n",
       "      <td>Yes</td>\n",
       "      <td>4</td>\n",
       "      <td>Yes</td>\n",
       "      <td>2</td>\n",
       "      <td>2</td>\n",
       "      <td>Competitive prices</td>\n",
       "      <td>Product quality and accuracy</td>\n",
       "    </tr>\n",
       "    <tr>\n",
       "      <th>5</th>\n",
       "      <td>2023/06/04 6:01:59 PM GMT+5:30</td>\n",
       "      <td>21</td>\n",
       "      <td>Female</td>\n",
       "      <td>Less than once a month</td>\n",
       "      <td>Clothing and Fashion</td>\n",
       "      <td>No</td>\n",
       "      <td>Rarely</td>\n",
       "      <td>categories</td>\n",
       "      <td>Multiple pages</td>\n",
       "      <td>1</td>\n",
       "      <td>...</td>\n",
       "      <td>Never</td>\n",
       "      <td>No</td>\n",
       "      <td>Heavily</td>\n",
       "      <td>Yes</td>\n",
       "      <td>5</td>\n",
       "      <td>No</td>\n",
       "      <td>5</td>\n",
       "      <td>2</td>\n",
       "      <td>Wide product selection</td>\n",
       "      <td>Product quality and accuracy</td>\n",
       "    </tr>\n",
       "    <tr>\n",
       "      <th>6</th>\n",
       "      <td>2023/06/04 6:31:41 PM GMT+5:30</td>\n",
       "      <td>22</td>\n",
       "      <td>Female</td>\n",
       "      <td>Less than once a month</td>\n",
       "      <td>Clothing and Fashion</td>\n",
       "      <td>No</td>\n",
       "      <td>Rarely</td>\n",
       "      <td>Filter</td>\n",
       "      <td>Multiple pages</td>\n",
       "      <td>1</td>\n",
       "      <td>...</td>\n",
       "      <td>Rarely</td>\n",
       "      <td>No</td>\n",
       "      <td>Heavily</td>\n",
       "      <td>Yes</td>\n",
       "      <td>3</td>\n",
       "      <td>Sometimes</td>\n",
       "      <td>3</td>\n",
       "      <td>3</td>\n",
       "      <td>Wide product selection</td>\n",
       "      <td>Shipping speed and reliability</td>\n",
       "    </tr>\n",
       "    <tr>\n",
       "      <th>7</th>\n",
       "      <td>2023/06/04 7:13:12 PM GMT+5:30</td>\n",
       "      <td>21</td>\n",
       "      <td>Female</td>\n",
       "      <td>Few times a month</td>\n",
       "      <td>Beauty and Personal Care;Clothing and Fashion</td>\n",
       "      <td>No</td>\n",
       "      <td>Rarely</td>\n",
       "      <td>Keyword</td>\n",
       "      <td>Multiple pages</td>\n",
       "      <td>1</td>\n",
       "      <td>...</td>\n",
       "      <td>Rarely</td>\n",
       "      <td>No</td>\n",
       "      <td>Heavily</td>\n",
       "      <td>Sometimes</td>\n",
       "      <td>3</td>\n",
       "      <td>Sometimes</td>\n",
       "      <td>1</td>\n",
       "      <td>3</td>\n",
       "      <td>Competitive prices</td>\n",
       "      <td>Shipping speed and reliability</td>\n",
       "    </tr>\n",
       "    <tr>\n",
       "      <th>8</th>\n",
       "      <td>2023/06/04 7:23:21 PM GMT+5:30</td>\n",
       "      <td>20</td>\n",
       "      <td>Female</td>\n",
       "      <td>Less than once a month</td>\n",
       "      <td>Beauty and Personal Care;Clothing and Fashion</td>\n",
       "      <td>Sometimes</td>\n",
       "      <td>Few times a month</td>\n",
       "      <td>Keyword</td>\n",
       "      <td>First page</td>\n",
       "      <td>1</td>\n",
       "      <td>...</td>\n",
       "      <td>Often</td>\n",
       "      <td>No</td>\n",
       "      <td>Moderately</td>\n",
       "      <td>Yes</td>\n",
       "      <td>2</td>\n",
       "      <td>Yes</td>\n",
       "      <td>2</td>\n",
       "      <td>2</td>\n",
       "      <td>Wide product selection</td>\n",
       "      <td>Reducing packaging waste</td>\n",
       "    </tr>\n",
       "    <tr>\n",
       "      <th>9</th>\n",
       "      <td>2023/06/04 7:33:12 PM GMT+5:30</td>\n",
       "      <td>23</td>\n",
       "      <td>Female</td>\n",
       "      <td>Less than once a month</td>\n",
       "      <td>Beauty and Personal Care;Clothing and Fashion</td>\n",
       "      <td>No</td>\n",
       "      <td>Rarely</td>\n",
       "      <td>Keyword</td>\n",
       "      <td>Multiple pages</td>\n",
       "      <td>1</td>\n",
       "      <td>...</td>\n",
       "      <td>Rarely</td>\n",
       "      <td>No</td>\n",
       "      <td>Heavily</td>\n",
       "      <td>Yes</td>\n",
       "      <td>3</td>\n",
       "      <td>Yes</td>\n",
       "      <td>3</td>\n",
       "      <td>4</td>\n",
       "      <td>Wide product selection</td>\n",
       "      <td>Product quality and accuracy</td>\n",
       "    </tr>\n",
       "  </tbody>\n",
       "</table>\n",
       "<p>10 rows × 23 columns</p>\n",
       "</div>"
      ],
      "text/plain": [
       "                        Timestamp  age             Gender  \\\n",
       "0  2023/06/04 1:28:19 PM GMT+5:30   23             Female   \n",
       "1  2023/06/04 2:30:44 PM GMT+5:30   23             Female   \n",
       "2  2023/06/04 5:04:56 PM GMT+5:30   24  Prefer not to say   \n",
       "3  2023/06/04 5:13:00 PM GMT+5:30   24             Female   \n",
       "4  2023/06/04 5:28:06 PM GMT+5:30   22             Female   \n",
       "5  2023/06/04 6:01:59 PM GMT+5:30   21             Female   \n",
       "6  2023/06/04 6:31:41 PM GMT+5:30   22             Female   \n",
       "7  2023/06/04 7:13:12 PM GMT+5:30   21             Female   \n",
       "8  2023/06/04 7:23:21 PM GMT+5:30   20             Female   \n",
       "9  2023/06/04 7:33:12 PM GMT+5:30   23             Female   \n",
       "\n",
       "       Purchase_Frequency                                Purchase_Categories  \\\n",
       "0       Few times a month                           Beauty and Personal Care   \n",
       "1            Once a month                               Clothing and Fashion   \n",
       "2       Few times a month    Groceries and Gourmet Food;Clothing and Fashion   \n",
       "3            Once a month  Beauty and Personal Care;Clothing and Fashion;...   \n",
       "4  Less than once a month      Beauty and Personal Care;Clothing and Fashion   \n",
       "5  Less than once a month                               Clothing and Fashion   \n",
       "6  Less than once a month                               Clothing and Fashion   \n",
       "7       Few times a month      Beauty and Personal Care;Clothing and Fashion   \n",
       "8  Less than once a month      Beauty and Personal Care;Clothing and Fashion   \n",
       "9  Less than once a month      Beauty and Personal Care;Clothing and Fashion   \n",
       "\n",
       "  Personalized_Recommendation_Frequency Browsing_Frequency  \\\n",
       "0                                   Yes   Few times a week   \n",
       "1                                   Yes  Few times a month   \n",
       "2                                    No  Few times a month   \n",
       "3                             Sometimes  Few times a month   \n",
       "4                                   Yes  Few times a month   \n",
       "5                                    No             Rarely   \n",
       "6                                    No             Rarely   \n",
       "7                                    No             Rarely   \n",
       "8                             Sometimes  Few times a month   \n",
       "9                                    No             Rarely   \n",
       "\n",
       "  Product_Search_Method Search_Result_Exploration  \\\n",
       "0               Keyword            Multiple pages   \n",
       "1               Keyword            Multiple pages   \n",
       "2               Keyword            Multiple pages   \n",
       "3               Keyword                First page   \n",
       "4                Filter            Multiple pages   \n",
       "5            categories            Multiple pages   \n",
       "6                Filter            Multiple pages   \n",
       "7               Keyword            Multiple pages   \n",
       "8               Keyword                First page   \n",
       "9               Keyword            Multiple pages   \n",
       "\n",
       "   Customer_Reviews_Importance  ... Saveforlater_Frequency Review_Left  \\\n",
       "0                            1  ...              Sometimes         Yes   \n",
       "1                            1  ...                 Rarely          No   \n",
       "2                            2  ...                 Rarely          No   \n",
       "3                            5  ...              Sometimes         Yes   \n",
       "4                            1  ...                 Rarely          No   \n",
       "5                            1  ...                  Never          No   \n",
       "6                            1  ...                 Rarely          No   \n",
       "7                            1  ...                 Rarely          No   \n",
       "8                            1  ...                  Often          No   \n",
       "9                            1  ...                 Rarely          No   \n",
       "\n",
       "  Review_Reliability Review_Helpfulness  \\\n",
       "0       Occasionally                Yes   \n",
       "1            Heavily                Yes   \n",
       "2       Occasionally                 No   \n",
       "3            Heavily                Yes   \n",
       "4            Heavily                Yes   \n",
       "5            Heavily                Yes   \n",
       "6            Heavily                Yes   \n",
       "7            Heavily          Sometimes   \n",
       "8         Moderately                Yes   \n",
       "9            Heavily                Yes   \n",
       "\n",
       "  Personalized_Recommendation_Frequency  Recommendation_Helpfulness  \\\n",
       "0                                      2                        Yes   \n",
       "1                                      2                  Sometimes   \n",
       "2                                      4                         No   \n",
       "3                                      3                  Sometimes   \n",
       "4                                      4                        Yes   \n",
       "5                                      5                         No   \n",
       "6                                      3                  Sometimes   \n",
       "7                                      3                  Sometimes   \n",
       "8                                      2                        Yes   \n",
       "9                                      3                        Yes   \n",
       "\n",
       "  Rating_Accuracy   Shopping_Satisfaction    Service_Appreciation  \\\n",
       "0                1                      1      Competitive prices   \n",
       "1                3                      2  Wide product selection   \n",
       "2                3                      3      Competitive prices   \n",
       "3                3                      4      Competitive prices   \n",
       "4                2                      2      Competitive prices   \n",
       "5                5                      2  Wide product selection   \n",
       "6                3                      3  Wide product selection   \n",
       "7                1                      3      Competitive prices   \n",
       "8                2                      2  Wide product selection   \n",
       "9                3                      4  Wide product selection   \n",
       "\n",
       "                Improvement_Areas  \n",
       "0        Reducing packaging waste  \n",
       "1        Reducing packaging waste  \n",
       "2    Product quality and accuracy  \n",
       "3    Product quality and accuracy  \n",
       "4    Product quality and accuracy  \n",
       "5    Product quality and accuracy  \n",
       "6  Shipping speed and reliability  \n",
       "7  Shipping speed and reliability  \n",
       "8        Reducing packaging waste  \n",
       "9    Product quality and accuracy  \n",
       "\n",
       "[10 rows x 23 columns]"
      ]
     },
     "execution_count": 2,
     "metadata": {},
     "output_type": "execute_result"
    }
   ],
   "source": [
    "## Loading the dataset\n",
    "data = pd.read_csv('Amazon Customer Behavior Survey.csv')\n",
    "data.head(10)"
   ]
  },
  {
   "cell_type": "code",
   "execution_count": 3,
   "id": "56f7e68b-eb34-4aa4-905a-e673b498d7f4",
   "metadata": {},
   "outputs": [
    {
     "data": {
      "text/plain": [
       "Index(['Timestamp', 'age', 'Gender', 'Purchase_Frequency',\n",
       "       'Purchase_Categories', 'Personalized_Recommendation_Frequency',\n",
       "       'Browsing_Frequency', 'Product_Search_Method',\n",
       "       'Search_Result_Exploration', 'Customer_Reviews_Importance',\n",
       "       'Add_to_Cart_Browsing', 'Cart_Completion_Frequency',\n",
       "       'Cart_Abandonment_Factors', 'Saveforlater_Frequency', 'Review_Left',\n",
       "       'Review_Reliability', 'Review_Helpfulness',\n",
       "       'Personalized_Recommendation_Frequency ', 'Recommendation_Helpfulness',\n",
       "       'Rating_Accuracy ', 'Shopping_Satisfaction', 'Service_Appreciation',\n",
       "       'Improvement_Areas'],\n",
       "      dtype='object')"
      ]
     },
     "execution_count": 3,
     "metadata": {},
     "output_type": "execute_result"
    }
   ],
   "source": [
    "# checking the columns in the dataset\n",
    "data.columns"
   ]
  },
  {
   "cell_type": "code",
   "execution_count": 4,
   "id": "7e9f99d4-a241-4f4c-9da8-16453a5ba0eb",
   "metadata": {
    "scrolled": true
   },
   "outputs": [
    {
     "data": {
      "text/plain": [
       "Timestamp                                 object\n",
       "age                                        int64\n",
       "Gender                                    object\n",
       "Purchase_Frequency                        object\n",
       "Purchase_Categories                       object\n",
       "Personalized_Recommendation_Frequency     object\n",
       "Browsing_Frequency                        object\n",
       "Product_Search_Method                     object\n",
       "Search_Result_Exploration                 object\n",
       "Customer_Reviews_Importance                int64\n",
       "Add_to_Cart_Browsing                      object\n",
       "Cart_Completion_Frequency                 object\n",
       "Cart_Abandonment_Factors                  object\n",
       "Saveforlater_Frequency                    object\n",
       "Review_Left                               object\n",
       "Review_Reliability                        object\n",
       "Review_Helpfulness                        object\n",
       "Personalized_Recommendation_Frequency      int64\n",
       "Recommendation_Helpfulness                object\n",
       "Rating_Accuracy                            int64\n",
       "Shopping_Satisfaction                      int64\n",
       "Service_Appreciation                      object\n",
       "Improvement_Areas                         object\n",
       "dtype: object"
      ]
     },
     "execution_count": 4,
     "metadata": {},
     "output_type": "execute_result"
    }
   ],
   "source": [
    "# Checking the type of each column\n",
    "data.dtypes"
   ]
  },
  {
   "cell_type": "code",
   "execution_count": 5,
   "id": "757c0ff9-6f0d-4502-ad60-32d58b4c3feb",
   "metadata": {
    "scrolled": true
   },
   "outputs": [
    {
     "data": {
      "text/plain": [
       "Timestamp                                 0\n",
       "age                                       0\n",
       "Gender                                    0\n",
       "Purchase_Frequency                        0\n",
       "Purchase_Categories                       0\n",
       "Personalized_Recommendation_Frequency     0\n",
       "Browsing_Frequency                        0\n",
       "Product_Search_Method                     2\n",
       "Search_Result_Exploration                 0\n",
       "Customer_Reviews_Importance               0\n",
       "Add_to_Cart_Browsing                      0\n",
       "Cart_Completion_Frequency                 0\n",
       "Cart_Abandonment_Factors                  0\n",
       "Saveforlater_Frequency                    0\n",
       "Review_Left                               0\n",
       "Review_Reliability                        0\n",
       "Review_Helpfulness                        0\n",
       "Personalized_Recommendation_Frequency     0\n",
       "Recommendation_Helpfulness                0\n",
       "Rating_Accuracy                           0\n",
       "Shopping_Satisfaction                     0\n",
       "Service_Appreciation                      0\n",
       "Improvement_Areas                         0\n",
       "dtype: int64"
      ]
     },
     "execution_count": 5,
     "metadata": {},
     "output_type": "execute_result"
    }
   ],
   "source": [
    "# Checking for missing values\n",
    "data.isnull().sum()"
   ]
  },
  {
   "cell_type": "code",
   "execution_count": 6,
   "id": "36e997a6-ad78-418b-816a-058bbdf99cfc",
   "metadata": {},
   "outputs": [],
   "source": [
    "# Drppoing the missing values\n",
    "amazon_data = data.dropna()\n"
   ]
  },
  {
   "cell_type": "code",
   "execution_count": 7,
   "id": "14f4ecc4-6657-4954-ab9f-f4a15002aaf3",
   "metadata": {
    "scrolled": true
   },
   "outputs": [
    {
     "data": {
      "text/plain": [
       "Timestamp                                 0\n",
       "age                                       0\n",
       "Gender                                    0\n",
       "Purchase_Frequency                        0\n",
       "Purchase_Categories                       0\n",
       "Personalized_Recommendation_Frequency     0\n",
       "Browsing_Frequency                        0\n",
       "Product_Search_Method                     0\n",
       "Search_Result_Exploration                 0\n",
       "Customer_Reviews_Importance               0\n",
       "Add_to_Cart_Browsing                      0\n",
       "Cart_Completion_Frequency                 0\n",
       "Cart_Abandonment_Factors                  0\n",
       "Saveforlater_Frequency                    0\n",
       "Review_Left                               0\n",
       "Review_Reliability                        0\n",
       "Review_Helpfulness                        0\n",
       "Personalized_Recommendation_Frequency     0\n",
       "Recommendation_Helpfulness                0\n",
       "Rating_Accuracy                           0\n",
       "Shopping_Satisfaction                     0\n",
       "Service_Appreciation                      0\n",
       "Improvement_Areas                         0\n",
       "dtype: int64"
      ]
     },
     "execution_count": 7,
     "metadata": {},
     "output_type": "execute_result"
    }
   ],
   "source": [
    "# Checking for missing values\n",
    "amazon_data.isnull().sum()"
   ]
  },
  {
   "cell_type": "markdown",
   "id": "cfd27640-2e3a-4c70-b838-168070e96e64",
   "metadata": {},
   "source": [
    "##### Removed all the missing values from the dataset"
   ]
  },
  {
   "cell_type": "code",
   "execution_count": 58,
   "id": "4af1d7a3-b1d7-4106-aa6d-8cb93f56972c",
   "metadata": {},
   "outputs": [],
   "source": [
    "# Creating a copy before label encoding for visualisation purpose\n",
    "amazon_data1 = amazon_data.copy()\n"
   ]
  },
  {
   "cell_type": "markdown",
   "id": "415d582b-7b76-4344-aba2-1d3994676a03",
   "metadata": {},
   "source": [
    "### EDA"
   ]
  },
  {
   "cell_type": "code",
   "execution_count": 11,
   "id": "33459dc7-4b77-439c-a9c9-8504e9672512",
   "metadata": {},
   "outputs": [
    {
     "data": {
      "image/png": "[encoded data removed]",
      "text/plain": [
       "<Figure size 500x500 with 1 Axes>"
      ]
     },
     "metadata": {},
     "output_type": "display_data"
    }
   ],
   "source": [
    "### Boxplot of Age and Product_Search_Method\n",
    "plt.figure(figsize = (5,5))\n",
    "sns.boxplot(x = 'age', y = 'Product_Search_Method', data = amazon_data1)\n",
    "plt.xlabel('Age')\n",
    "plt.ylabel('Product_Search_Method')\n",
    "plt.title('Boxplot of Age and Product_Search_Method')\n",
    "plt.show()"
   ]
  },
  {
   "cell_type": "markdown",
   "id": "b3bd189e-9992-4c20-8422-ed61a08f1b78",
   "metadata": {},
   "source": [
    "##### This boxplot categorizes Amazon customers based on their preferred method of searching for products and their age. The methods include using keywords, filters, categories, and other undefined methods. The median age of customers who prefer different search methods provides insights into the browsing behavior of various age groups. The plot suggests that those who searched using ‘Filter’ and  ‘Categories’ methods tend to fall between age of 25 to 35."
   ]
  },
  {
   "cell_type": "code",
   "execution_count": 12,
   "id": "2ded726f-a3ad-4465-871d-aa5536331e93",
   "metadata": {},
   "outputs": [
    {
     "data": {
      "image/png": "[encoded data removed]",
      "text/plain": [
       "<Figure size 500x500 with 1 Axes>"
      ]
     },
     "metadata": {},
     "output_type": "display_data"
    }
   ],
   "source": [
    "# Boxplot of Gender and Review_Reliability\n",
    "plt.figure(figsize = (5,5))\n",
    "sns.barplot(x = 'Gender', y = 'Review_Reliability', data = amazon_data1)\n",
    "plt.xlabel('Gender')\n",
    "plt.ylabel('Review_Reliability')\n",
    "plt.title('Boxplot of Gender and Review_Reliability')\n",
    "plt.show()"
   ]
  },
  {
   "cell_type": "markdown",
   "id": "21b93331-65bc-4b1b-aa26-e94da3b4bd8a",
   "metadata": {},
   "source": [
    "#####  It can be noticed from the boxplot that the reliability of reviews differs among gender categories. The categories \"Female\" and \"Male\" have higher median reliability compared to \"Others.\" The categories \"Prefer not to say\" and \"Others\" have a wider range of perceptions concerning reliability. \"Others\" category has the widest range and the lowest median reliability."
   ]
  },
  {
   "cell_type": "code",
   "execution_count": 37,
   "id": "ce61c8ec-e1f1-49ab-b66a-f14edbf2fafd",
   "metadata": {},
   "outputs": [
    {
     "data": {
      "image/png": "[encoded data removed]",
      "text/plain": [
       "<Figure size 500x500 with 1 Axes>"
      ]
     },
     "metadata": {},
     "output_type": "display_data"
    }
   ],
   "source": [
    "### Histogram Plot Review Reliability\n",
    "plt.figure(figsize = (5,5))\n",
    "sns.histplot(data=amazon_data1, x='Review_Reliability', bins=30)\n",
    "plt.xlabel('Review Reliability')\n",
    "plt.ylabel('Frequency')\n",
    "plt.title('Histogram of Review Reliability')\n",
    "plt.show()"
   ]
  },
  {
   "cell_type": "markdown",
   "id": "ab3c1c4c-4b10-4e16-954d-cfd708d10700",
   "metadata": {},
   "source": [
    "##### The histogram displays the frequency of customers' perceived reliability of reviews, categorized as occasionally, heavily, moderately, never, and rarely. The high frequency of 'Occasionally' and 'Heavily' indicates that a significant number of customers find reviews to be generally reliable, while few customers find them 'Rarely' reliable.\n"
   ]
  },
  {
   "cell_type": "markdown",
   "id": "bd3afea0-745d-4775-9973-e5655eed5369",
   "metadata": {},
   "source": [
    "## Pre-Processing the data"
   ]
  },
  {
   "cell_type": "code",
   "execution_count": 14,
   "id": "c61da1ff-273f-4ef3-aa43-cafccf886776",
   "metadata": {
    "scrolled": true
   },
   "outputs": [
    {
     "name": "stdout",
     "output_type": "stream",
     "text": [
      "Shape all_data: (600, 23)\n"
     ]
    },
    {
     "name": "stderr",
     "output_type": "stream",
     "text": [
      "/var/folders/_n/zlsv0l8x3pdgl3y2ws_9tbfm0000gn/T/ipykernel_53945/3400494938.py:15: SettingWithCopyWarning: \n",
      "A value is trying to be set on a copy of a slice from a DataFrame.\n",
      "Try using .loc[row_indexer,col_indexer] = value instead\n",
      "\n",
      "See the caveats in the documentation: https://pandas.pydata.org/pandas-docs/stable/user_guide/indexing.html#returning-a-view-versus-a-copy\n",
      "  amazon_data[c] = lbl.transform(list(amazon_data[c].values))\n",
      "/var/folders/_n/zlsv0l8x3pdgl3y2ws_9tbfm0000gn/T/ipykernel_53945/3400494938.py:15: SettingWithCopyWarning: \n",
      "A value is trying to be set on a copy of a slice from a DataFrame.\n",
      "Try using .loc[row_indexer,col_indexer] = value instead\n",
      "\n",
      "See the caveats in the documentation: https://pandas.pydata.org/pandas-docs/stable/user_guide/indexing.html#returning-a-view-versus-a-copy\n",
      "  amazon_data[c] = lbl.transform(list(amazon_data[c].values))\n",
      "/var/folders/_n/zlsv0l8x3pdgl3y2ws_9tbfm0000gn/T/ipykernel_53945/3400494938.py:15: SettingWithCopyWarning: \n",
      "A value is trying to be set on a copy of a slice from a DataFrame.\n",
      "Try using .loc[row_indexer,col_indexer] = value instead\n",
      "\n",
      "See the caveats in the documentation: https://pandas.pydata.org/pandas-docs/stable/user_guide/indexing.html#returning-a-view-versus-a-copy\n",
      "  amazon_data[c] = lbl.transform(list(amazon_data[c].values))\n",
      "/var/folders/_n/zlsv0l8x3pdgl3y2ws_9tbfm0000gn/T/ipykernel_53945/3400494938.py:15: SettingWithCopyWarning: \n",
      "A value is trying to be set on a copy of a slice from a DataFrame.\n",
      "Try using .loc[row_indexer,col_indexer] = value instead\n",
      "\n",
      "See the caveats in the documentation: https://pandas.pydata.org/pandas-docs/stable/user_guide/indexing.html#returning-a-view-versus-a-copy\n",
      "  amazon_data[c] = lbl.transform(list(amazon_data[c].values))\n",
      "/var/folders/_n/zlsv0l8x3pdgl3y2ws_9tbfm0000gn/T/ipykernel_53945/3400494938.py:15: SettingWithCopyWarning: \n",
      "A value is trying to be set on a copy of a slice from a DataFrame.\n",
      "Try using .loc[row_indexer,col_indexer] = value instead\n",
      "\n",
      "See the caveats in the documentation: https://pandas.pydata.org/pandas-docs/stable/user_guide/indexing.html#returning-a-view-versus-a-copy\n",
      "  amazon_data[c] = lbl.transform(list(amazon_data[c].values))\n",
      "/var/folders/_n/zlsv0l8x3pdgl3y2ws_9tbfm0000gn/T/ipykernel_53945/3400494938.py:15: SettingWithCopyWarning: \n",
      "A value is trying to be set on a copy of a slice from a DataFrame.\n",
      "Try using .loc[row_indexer,col_indexer] = value instead\n",
      "\n",
      "See the caveats in the documentation: https://pandas.pydata.org/pandas-docs/stable/user_guide/indexing.html#returning-a-view-versus-a-copy\n",
      "  amazon_data[c] = lbl.transform(list(amazon_data[c].values))\n",
      "/var/folders/_n/zlsv0l8x3pdgl3y2ws_9tbfm0000gn/T/ipykernel_53945/3400494938.py:15: SettingWithCopyWarning: \n",
      "A value is trying to be set on a copy of a slice from a DataFrame.\n",
      "Try using .loc[row_indexer,col_indexer] = value instead\n",
      "\n",
      "See the caveats in the documentation: https://pandas.pydata.org/pandas-docs/stable/user_guide/indexing.html#returning-a-view-versus-a-copy\n",
      "  amazon_data[c] = lbl.transform(list(amazon_data[c].values))\n",
      "/var/folders/_n/zlsv0l8x3pdgl3y2ws_9tbfm0000gn/T/ipykernel_53945/3400494938.py:15: SettingWithCopyWarning: \n",
      "A value is trying to be set on a copy of a slice from a DataFrame.\n",
      "Try using .loc[row_indexer,col_indexer] = value instead\n",
      "\n",
      "See the caveats in the documentation: https://pandas.pydata.org/pandas-docs/stable/user_guide/indexing.html#returning-a-view-versus-a-copy\n",
      "  amazon_data[c] = lbl.transform(list(amazon_data[c].values))\n",
      "/var/folders/_n/zlsv0l8x3pdgl3y2ws_9tbfm0000gn/T/ipykernel_53945/3400494938.py:15: SettingWithCopyWarning: \n",
      "A value is trying to be set on a copy of a slice from a DataFrame.\n",
      "Try using .loc[row_indexer,col_indexer] = value instead\n",
      "\n",
      "See the caveats in the documentation: https://pandas.pydata.org/pandas-docs/stable/user_guide/indexing.html#returning-a-view-versus-a-copy\n",
      "  amazon_data[c] = lbl.transform(list(amazon_data[c].values))\n",
      "/var/folders/_n/zlsv0l8x3pdgl3y2ws_9tbfm0000gn/T/ipykernel_53945/3400494938.py:15: SettingWithCopyWarning: \n",
      "A value is trying to be set on a copy of a slice from a DataFrame.\n",
      "Try using .loc[row_indexer,col_indexer] = value instead\n",
      "\n",
      "See the caveats in the documentation: https://pandas.pydata.org/pandas-docs/stable/user_guide/indexing.html#returning-a-view-versus-a-copy\n",
      "  amazon_data[c] = lbl.transform(list(amazon_data[c].values))\n",
      "/var/folders/_n/zlsv0l8x3pdgl3y2ws_9tbfm0000gn/T/ipykernel_53945/3400494938.py:15: SettingWithCopyWarning: \n",
      "A value is trying to be set on a copy of a slice from a DataFrame.\n",
      "Try using .loc[row_indexer,col_indexer] = value instead\n",
      "\n",
      "See the caveats in the documentation: https://pandas.pydata.org/pandas-docs/stable/user_guide/indexing.html#returning-a-view-versus-a-copy\n",
      "  amazon_data[c] = lbl.transform(list(amazon_data[c].values))\n",
      "/var/folders/_n/zlsv0l8x3pdgl3y2ws_9tbfm0000gn/T/ipykernel_53945/3400494938.py:15: SettingWithCopyWarning: \n",
      "A value is trying to be set on a copy of a slice from a DataFrame.\n",
      "Try using .loc[row_indexer,col_indexer] = value instead\n",
      "\n",
      "See the caveats in the documentation: https://pandas.pydata.org/pandas-docs/stable/user_guide/indexing.html#returning-a-view-versus-a-copy\n",
      "  amazon_data[c] = lbl.transform(list(amazon_data[c].values))\n",
      "/var/folders/_n/zlsv0l8x3pdgl3y2ws_9tbfm0000gn/T/ipykernel_53945/3400494938.py:15: SettingWithCopyWarning: \n",
      "A value is trying to be set on a copy of a slice from a DataFrame.\n",
      "Try using .loc[row_indexer,col_indexer] = value instead\n",
      "\n",
      "See the caveats in the documentation: https://pandas.pydata.org/pandas-docs/stable/user_guide/indexing.html#returning-a-view-versus-a-copy\n",
      "  amazon_data[c] = lbl.transform(list(amazon_data[c].values))\n",
      "/var/folders/_n/zlsv0l8x3pdgl3y2ws_9tbfm0000gn/T/ipykernel_53945/3400494938.py:15: SettingWithCopyWarning: \n",
      "A value is trying to be set on a copy of a slice from a DataFrame.\n",
      "Try using .loc[row_indexer,col_indexer] = value instead\n",
      "\n",
      "See the caveats in the documentation: https://pandas.pydata.org/pandas-docs/stable/user_guide/indexing.html#returning-a-view-versus-a-copy\n",
      "  amazon_data[c] = lbl.transform(list(amazon_data[c].values))\n",
      "/var/folders/_n/zlsv0l8x3pdgl3y2ws_9tbfm0000gn/T/ipykernel_53945/3400494938.py:15: SettingWithCopyWarning: \n",
      "A value is trying to be set on a copy of a slice from a DataFrame.\n",
      "Try using .loc[row_indexer,col_indexer] = value instead\n",
      "\n",
      "See the caveats in the documentation: https://pandas.pydata.org/pandas-docs/stable/user_guide/indexing.html#returning-a-view-versus-a-copy\n",
      "  amazon_data[c] = lbl.transform(list(amazon_data[c].values))\n",
      "/var/folders/_n/zlsv0l8x3pdgl3y2ws_9tbfm0000gn/T/ipykernel_53945/3400494938.py:15: SettingWithCopyWarning: \n",
      "A value is trying to be set on a copy of a slice from a DataFrame.\n",
      "Try using .loc[row_indexer,col_indexer] = value instead\n",
      "\n",
      "See the caveats in the documentation: https://pandas.pydata.org/pandas-docs/stable/user_guide/indexing.html#returning-a-view-versus-a-copy\n",
      "  amazon_data[c] = lbl.transform(list(amazon_data[c].values))\n",
      "/var/folders/_n/zlsv0l8x3pdgl3y2ws_9tbfm0000gn/T/ipykernel_53945/3400494938.py:15: SettingWithCopyWarning: \n",
      "A value is trying to be set on a copy of a slice from a DataFrame.\n",
      "Try using .loc[row_indexer,col_indexer] = value instead\n",
      "\n",
      "See the caveats in the documentation: https://pandas.pydata.org/pandas-docs/stable/user_guide/indexing.html#returning-a-view-versus-a-copy\n",
      "  amazon_data[c] = lbl.transform(list(amazon_data[c].values))\n"
     ]
    }
   ],
   "source": [
    "## Creating a list of categorical features in the dataset for label encoding\n",
    "cols = ['Gender', 'Purchase_Frequency',\n",
    "       'Purchase_Categories', 'Personalized_Recommendation_Frequency',\n",
    "       'Browsing_Frequency', 'Product_Search_Method',\n",
    "       'Search_Result_Exploration',\n",
    "       'Add_to_Cart_Browsing', 'Cart_Completion_Frequency',\n",
    "       'Cart_Abandonment_Factors', 'Saveforlater_Frequency', 'Review_Left',\n",
    "       'Review_Reliability', 'Review_Helpfulness',\n",
    "        'Recommendation_Helpfulness','Service_Appreciation',\n",
    "       'Improvement_Areas']\n",
    "\n",
    "# process columns, apply LabelEncoder to categorical features\n",
    "for c in cols:\n",
    "    lbl = LabelEncoder() \n",
    "    lbl.fit(list(amazon_data[c].values)) \n",
    "    amazon_data[c] = lbl.transform(list(amazon_data[c].values))\n",
    "\n",
    "# shape       \n",
    "print('Shape all_data: {}'.format(amazon_data.shape))"
   ]
  },
  {
   "cell_type": "markdown",
   "id": "cd4955a8-b659-46a5-91e0-8fed7a561e55",
   "metadata": {},
   "source": [
    "### Spliting the dataset and choosing the appropriate output variable"
   ]
  },
  {
   "cell_type": "markdown",
   "id": "362b540f-a217-4f71-97c0-f94d298ff7af",
   "metadata": {},
   "source": [
    "#### The dataset is split into 80% train and 20% test data"
   ]
  },
  {
   "cell_type": "code",
   "execution_count": 15,
   "id": "ffb21840-b4d1-4e4a-8cd3-a4e46e0b97b3",
   "metadata": {},
   "outputs": [],
   "source": [
    "# Dropping irrelevant columns\n",
    "cols_to_drop = ['Timestamp','Shopping_Satisfaction']\n",
    "X = amazon_data.drop(cols_to_drop, axis = 1)\n",
    "Y = amazon_data['Shopping_Satisfaction']\n",
    "\n",
    "# splitting dataset into 80% train and 20% test\n",
    "X_train, X_test, y_train, y_test = train_test_split(X, Y, train_size=0.8, random_state=1)"
   ]
  },
  {
   "cell_type": "markdown",
   "id": "9276ace2-b967-4c60-9628-9df055954f9a",
   "metadata": {},
   "source": [
    "### Feature Selection\n",
    "### Using CV Lasso to find optimum alpha value"
   ]
  },
  {
   "cell_type": "code",
   "execution_count": 17,
   "id": "b1867c12-7b99-494c-9dbe-be26ea75b94a",
   "metadata": {},
   "outputs": [
    {
     "name": "stdout",
     "output_type": "stream",
     "text": [
      "AICc: 633.0107008876591\n",
      "BIC: 722.6195531603727\n",
      "Cross validated Rsquared: 0.4091939908082004\n",
      "Best alpha: 0.038175788605940494\n"
     ]
    },
    {
     "name": "stderr",
     "output_type": "stream",
     "text": [
      "/Users/manickashree/Library/Python/3.9/lib/python/site-packages/sklearn/base.py:458: UserWarning: X has feature names, but Lasso was fitted without feature names\n",
      "  warnings.warn(\n"
     ]
    }
   ],
   "source": [
    "## Standardising the train and test X variables\n",
    "scaler = StandardScaler()\n",
    "X_train_scaled_LS2 = scaler.fit_transform(X_train)\n",
    "X_val_scaled_LS2 = scaler.transform(X_test)\n",
    "\n",
    "## Applying Lasso regression at alpha = 0.1\n",
    "lasso = Lasso(alpha=0.1)\n",
    "lasso.fit(X_train_scaled_LS2, y_train)\n",
    "\n",
    "# AIC/BIC for Lasso\n",
    "Y_pred2 = lasso.predict(X_train)\n",
    "\n",
    "rss = np.sum((y_train - Y_pred2) ** 2)\n",
    "n = len(y_train)\n",
    "k = X_train.shape[1] + 1  # Number of parameters including the intercept\n",
    "\n",
    "AICc = n * np.log( rss / n ) + 2 * k + (2 * k * (k + 1)) / (n - k - 1)\n",
    "BIC = n * np.log( rss / n  ) + k * np.log(n)\n",
    "\n",
    "print('AICc:', AICc)\n",
    "print('BIC:',BIC)\n",
    "#print(f'AICc: {AICc}, BIC: {BIC}')\n",
    "\n",
    "### 5-fold CV ###\n",
    "\n",
    "# Compared to cross validated performance\n",
    "lasso_cv = LassoCV(alphas=None, cv=5, random_state=0)\n",
    "# print('Cross validated Rsquared: {}\\n',.format(lasso_cv))\n",
    "\n",
    "\n",
    "# Fit the model\n",
    "lasso_cv.fit(X_train, y_train)\n",
    "\n",
    "print('Cross validated Rsquared:',lasso_cv.score(X_train, y_train))\n",
    "\n",
    "# Best alpha\n",
    "print(f\"Best alpha: {lasso_cv.alpha_}\")"
   ]
  },
  {
   "cell_type": "markdown",
   "id": "8b3bb146-f1fb-4745-be20-9950bcfc75e9",
   "metadata": {},
   "source": [
    "### Performing the Lasso at alpha = 0.04 from the value we got from CV Lasso"
   ]
  },
  {
   "cell_type": "code",
   "execution_count": 18,
   "id": "a24c3ab1-e902-4b41-87aa-e25ef1b9eabc",
   "metadata": {},
   "outputs": [
    {
     "data": {
      "text/html": [
       "<style>#sk-container-id-1 {color: black;}#sk-container-id-1 pre{padding: 0;}#sk-container-id-1 div.sk-toggleable {background-color: white;}#sk-container-id-1 label.sk-toggleable__label {cursor: pointer;display: block;width: 100%;margin-bottom: 0;padding: 0.3em;box-sizing: border-box;text-align: center;}#sk-container-id-1 label.sk-toggleable__label-arrow:before {content: \"▸\";float: left;margin-right: 0.25em;color: #696969;}#sk-container-id-1 label.sk-toggleable__label-arrow:hover:before {color: black;}#sk-container-id-1 div.sk-estimator:hover label.sk-toggleable__label-arrow:before {color: black;}#sk-container-id-1 div.sk-toggleable__content {max-height: 0;max-width: 0;overflow: hidden;text-align: left;background-color: #f0f8ff;}#sk-container-id-1 div.sk-toggleable__content pre {margin: 0.2em;color: black;border-radius: 0.25em;background-color: #f0f8ff;}#sk-container-id-1 input.sk-toggleable__control:checked~div.sk-toggleable__content {max-height: 200px;max-width: 100%;overflow: auto;}#sk-container-id-1 input.sk-toggleable__control:checked~label.sk-toggleable__label-arrow:before {content: \"▾\";}#sk-container-id-1 div.sk-estimator input.sk-toggleable__control:checked~label.sk-toggleable__label {background-color: #d4ebff;}#sk-container-id-1 div.sk-label input.sk-toggleable__control:checked~label.sk-toggleable__label {background-color: #d4ebff;}#sk-container-id-1 input.sk-hidden--visually {border: 0;clip: rect(1px 1px 1px 1px);clip: rect(1px, 1px, 1px, 1px);height: 1px;margin: -1px;overflow: hidden;padding: 0;position: absolute;width: 1px;}#sk-container-id-1 div.sk-estimator {font-family: monospace;background-color: #f0f8ff;border: 1px dotted black;border-radius: 0.25em;box-sizing: border-box;margin-bottom: 0.5em;}#sk-container-id-1 div.sk-estimator:hover {background-color: #d4ebff;}#sk-container-id-1 div.sk-parallel-item::after {content: \"\";width: 100%;border-bottom: 1px solid gray;flex-grow: 1;}#sk-container-id-1 div.sk-label:hover label.sk-toggleable__label {background-color: #d4ebff;}#sk-container-id-1 div.sk-serial::before {content: \"\";position: absolute;border-left: 1px solid gray;box-sizing: border-box;top: 0;bottom: 0;left: 50%;z-index: 0;}#sk-container-id-1 div.sk-serial {display: flex;flex-direction: column;align-items: center;background-color: white;padding-right: 0.2em;padding-left: 0.2em;position: relative;}#sk-container-id-1 div.sk-item {position: relative;z-index: 1;}#sk-container-id-1 div.sk-parallel {display: flex;align-items: stretch;justify-content: center;background-color: white;position: relative;}#sk-container-id-1 div.sk-item::before, #sk-container-id-1 div.sk-parallel-item::before {content: \"\";position: absolute;border-left: 1px solid gray;box-sizing: border-box;top: 0;bottom: 0;left: 50%;z-index: -1;}#sk-container-id-1 div.sk-parallel-item {display: flex;flex-direction: column;z-index: 1;position: relative;background-color: white;}#sk-container-id-1 div.sk-parallel-item:first-child::after {align-self: flex-end;width: 50%;}#sk-container-id-1 div.sk-parallel-item:last-child::after {align-self: flex-start;width: 50%;}#sk-container-id-1 div.sk-parallel-item:only-child::after {width: 0;}#sk-container-id-1 div.sk-dashed-wrapped {border: 1px dashed gray;margin: 0 0.4em 0.5em 0.4em;box-sizing: border-box;padding-bottom: 0.4em;background-color: white;}#sk-container-id-1 div.sk-label label {font-family: monospace;font-weight: bold;display: inline-block;line-height: 1.2em;}#sk-container-id-1 div.sk-label-container {text-align: center;}#sk-container-id-1 div.sk-container {/* jupyter's `normalize.less` sets `[hidden] { display: none; }` but bootstrap.min.css set `[hidden] { display: none !important; }` so we also need the `!important` here to be able to override the default hidden behavior on the sphinx rendered scikit-learn.org. See: https://github.com/scikit-learn/scikit-learn/issues/21755 */display: inline-block !important;position: relative;}#sk-container-id-1 div.sk-text-repr-fallback {display: none;}</style><div id=\"sk-container-id-1\" class=\"sk-top-container\"><div class=\"sk-text-repr-fallback\"><pre>Lasso(alpha=0.04)</pre><b>In a Jupyter environment, please rerun this cell to show the HTML representation or trust the notebook. <br />On GitHub, the HTML representation is unable to render, please try loading this page with nbviewer.org.</b></div><div class=\"sk-container\" hidden><div class=\"sk-item\"><div class=\"sk-estimator sk-toggleable\"><input class=\"sk-toggleable__control sk-hidden--visually\" id=\"sk-estimator-id-1\" type=\"checkbox\" checked><label for=\"sk-estimator-id-1\" class=\"sk-toggleable__label sk-toggleable__label-arrow\">Lasso</label><div class=\"sk-toggleable__content\"><pre>Lasso(alpha=0.04)</pre></div></div></div></div></div>"
      ],
      "text/plain": [
       "Lasso(alpha=0.04)"
      ]
     },
     "execution_count": 18,
     "metadata": {},
     "output_type": "execute_result"
    }
   ],
   "source": [
    "## Standardising the train and test X variables\n",
    "scaler = StandardScaler()\n",
    "X_train_scaled_LS2 = scaler.fit_transform(X_train)\n",
    "X_val_scaled_LS2 = scaler.transform(X_test)\n",
    "\n",
    "## Applying Lasso regression at alpha = 0.04\n",
    "lasso = Lasso(alpha=0.04)\n",
    "lasso.fit(X_train_scaled_LS2, y_train)"
   ]
  },
  {
   "cell_type": "code",
   "execution_count": 19,
   "id": "16819969-2c1e-4319-a521-0205012854d9",
   "metadata": {
    "scrolled": true
   },
   "outputs": [
    {
     "data": {
      "text/plain": [
       "array([2.23682442, 2.41734635, 2.06960579, 2.66134581, 2.43110619,\n",
       "       2.05573271, 2.57325851, 2.35237111, 2.17216967, 2.05272667,\n",
       "       3.2894386 , 2.4572098 , 1.41919993, 2.65447093, 1.55990772,\n",
       "       2.08030667, 2.43249417, 2.86829587, 2.43673301, 2.77752478,\n",
       "       1.68797752, 2.12722073, 2.60237695, 2.08087469, 2.94127169,\n",
       "       1.84518321, 2.79808779, 2.69390804, 1.74027314, 1.7599917 ,\n",
       "       2.73820055, 1.19957278, 2.52019147, 2.70571224, 3.40407307,\n",
       "       2.93799625, 2.6955261 , 3.21004928, 2.93314085, 2.93825424,\n",
       "       2.40137646, 2.77404341, 2.72873116, 2.37368358, 1.10784005,\n",
       "       2.40869076, 1.91482363, 2.51373285, 3.10161545, 2.26843985,\n",
       "       2.84891098, 1.95772816, 2.36073797, 1.81664158, 1.96552963,\n",
       "       2.72648511, 2.30837722, 2.79274222, 2.12050202, 1.83680131,\n",
       "       2.92576572, 1.90011664, 2.90356553, 2.53254973, 2.82948675,\n",
       "       3.01001044, 2.06928697, 3.64678637, 2.46551779, 1.87392462,\n",
       "       2.26897515, 2.0287807 , 3.48681261, 2.978395  , 2.86925751,\n",
       "       3.70818807, 2.06135777, 3.45412265, 2.90183458, 2.93314085,\n",
       "       2.35830357, 2.25472514, 2.76592222, 3.08202462, 2.76592222,\n",
       "       2.79724333, 2.50496974, 2.94707389, 3.47493057, 2.46455615,\n",
       "       3.02550157, 2.45630813, 2.97743336, 2.59753638, 3.02926761,\n",
       "       2.15320768, 2.30069205, 2.30069205, 2.08183632, 2.35709879,\n",
       "       1.57980166, 2.77676478, 2.79628169, 2.96571792, 1.55053585,\n",
       "       1.39294015, 2.38111077, 2.36610505, 2.22848765, 2.30600795,\n",
       "       2.5783719 , 1.65181584, 2.93314085, 2.96520107, 1.82387504,\n",
       "       3.40118334, 2.76754028, 1.48966996, 1.73964516, 2.59016125])"
      ]
     },
     "execution_count": 19,
     "metadata": {},
     "output_type": "execute_result"
    }
   ],
   "source": [
    "## Predicting the price using lasso\n",
    "Y_pred_LS = lasso.predict(X_val_scaled_LS2)\n",
    "Y_pred_LS"
   ]
  },
  {
   "cell_type": "code",
   "execution_count": 20,
   "id": "84526ca4-b47c-41da-b53b-d8cf11de1611",
   "metadata": {},
   "outputs": [
    {
     "name": "stdout",
     "output_type": "stream",
     "text": [
      "Lasso coefficients: [ 0.          0.          0.         -0.         -0.         -0.\n",
      "  0.04479195 -0.          0.16410574 -0.08120504 -0.          0.06235727\n",
      "  0.          0.          0.02653849 -0.00075846  0.18932425  0.\n",
      "  0.35283391  0.          0.        ]\n",
      "Intercept: 2.4520833333333334\n"
     ]
    }
   ],
   "source": [
    "## Displaying coefficients and intercept.\n",
    "print(\"Lasso coefficients:\", lasso.coef_)\n",
    "print(\"Intercept:\", lasso.intercept_)"
   ]
  },
  {
   "cell_type": "markdown",
   "id": "5436512f-c19b-4bc0-af2f-11fedda3e59a",
   "metadata": {},
   "source": [
    "##### Using Lasso coefficients we get the significant features that contribute to the model and with the lasso coefficents of about 2.45. The Lasso regression model has selectively shrunk some coefficients to zero, indicating that these features have little or no impact on the target variable."
   ]
  },
  {
   "cell_type": "markdown",
   "id": "a677ce52-cd8e-4107-b3df-83f610190142",
   "metadata": {},
   "source": [
    "### Choosing only the significant features after CV Lasso"
   ]
  },
  {
   "cell_type": "code",
   "execution_count": 21,
   "id": "b3e3cf2e-e738-4f9e-af96-e0b8384c04e2",
   "metadata": {},
   "outputs": [],
   "source": [
    "## Choosing only the significant columns and dropping the rest\n",
    "cols_to_drop_new = ['Timestamp','age', 'Gender', 'Purchase_Frequency', 'Purchase_Categories',\n",
    "'Personalized_Recommendation_Frequency', 'Browsing_Frequency', 'Search_Result_Exploration',\n",
    "'Cart_Completion_Frequency', \n",
    "'Saveforlater_Frequency', 'Review_Left',  \n",
    "'Recommendation_Helpfulness', \n",
    "'Service_Appreciation', 'Improvement_Areas','Shopping_Satisfaction']\n",
    "\n",
    "X_new = amazon_data.drop(cols_to_drop_new, axis = 1)\n",
    "Y_new = amazon_data['Shopping_Satisfaction']\n",
    "\n",
    "# splitting dataset into 80% train and 20% test\n",
    "X_train_new, X_test_new, y_train_new, y_test_new = train_test_split(X_new, Y_new, train_size=0.8, random_state=1)"
   ]
  },
  {
   "cell_type": "code",
   "execution_count": 22,
   "id": "1a30e6d9-a82a-4e7d-8bf7-3d538d6bbae8",
   "metadata": {},
   "outputs": [
    {
     "name": "stdout",
     "output_type": "stream",
     "text": [
      "(480, 8)\n",
      "(120, 8)\n"
     ]
    }
   ],
   "source": [
    "## Scaling the X and Y training dataset using StandardScaler\n",
    "scaler = StandardScaler()\n",
    "X_train_scaled_LS_new = scaler.fit_transform(X_train_new)\n",
    "X_val_scaled_LS_new = scaler.transform(X_test_new)\n",
    "\n",
    "# Displaying the shape\n",
    "print(X_train_scaled_LS_new.shape)\n",
    "print(X_val_scaled_LS_new.shape)\n"
   ]
  },
  {
   "cell_type": "markdown",
   "id": "d8535148-6ef9-4b45-92b6-3b416aba9e67",
   "metadata": {},
   "source": [
    "### Supervised Learning models\n",
    "### K Neighbors Classifier clustering\n"
   ]
  },
  {
   "cell_type": "code",
   "execution_count": 38,
   "id": "6c697aab-53b2-4c4f-bf96-89e70f3d8898",
   "metadata": {
    "scrolled": true
   },
   "outputs": [
    {
     "name": "stdout",
     "output_type": "stream",
     "text": [
      "Confusion Matrix:\n",
      "[[ 0  0  5 17  0]\n",
      " [ 1  2  2 23  6]\n",
      " [ 0  2  6 23 16]\n",
      " [ 0  0  0  7  8]\n",
      " [ 0  0  0  1  1]]\n",
      "Classification Report:\n",
      "              precision    recall  f1-score   support\n",
      "\n",
      "           1       0.00      0.00      0.00        22\n",
      "           2       0.50      0.06      0.11        34\n",
      "           3       0.46      0.13      0.20        47\n",
      "           4       0.10      0.47      0.16        15\n",
      "           5       0.03      0.50      0.06         2\n",
      "\n",
      "    accuracy                           0.13       120\n",
      "   macro avg       0.22      0.23      0.11       120\n",
      "weighted avg       0.34      0.13      0.13       120\n",
      "\n"
     ]
    },
    {
     "name": "stderr",
     "output_type": "stream",
     "text": [
      "/Users/manickashree/Library/Python/3.9/lib/python/site-packages/sklearn/base.py:458: UserWarning: X has feature names, but KNeighborsClassifier was fitted without feature names\n",
      "  warnings.warn(\n",
      "/Users/manickashree/Library/Python/3.9/lib/python/site-packages/sklearn/base.py:458: UserWarning: X has feature names, but KNeighborsClassifier was fitted without feature names\n",
      "  warnings.warn(\n",
      "/Users/manickashree/Library/Python/3.9/lib/python/site-packages/sklearn/base.py:458: UserWarning: X has feature names, but KNeighborsClassifier was fitted without feature names\n",
      "  warnings.warn(\n",
      "/Users/manickashree/Library/Python/3.9/lib/python/site-packages/sklearn/base.py:458: UserWarning: X has feature names, but KNeighborsClassifier was fitted without feature names\n",
      "  warnings.warn(\n",
      "/Users/manickashree/Library/Python/3.9/lib/python/site-packages/sklearn/base.py:458: UserWarning: X has feature names, but KNeighborsClassifier was fitted without feature names\n",
      "  warnings.warn(\n",
      "/Users/manickashree/Library/Python/3.9/lib/python/site-packages/sklearn/base.py:458: UserWarning: X has feature names, but KNeighborsClassifier was fitted without feature names\n",
      "  warnings.warn(\n",
      "/Users/manickashree/Library/Python/3.9/lib/python/site-packages/sklearn/base.py:458: UserWarning: X has feature names, but KNeighborsClassifier was fitted without feature names\n",
      "  warnings.warn(\n",
      "/Users/manickashree/Library/Python/3.9/lib/python/site-packages/sklearn/base.py:458: UserWarning: X has feature names, but KNeighborsClassifier was fitted without feature names\n",
      "  warnings.warn(\n",
      "/Users/manickashree/Library/Python/3.9/lib/python/site-packages/sklearn/base.py:458: UserWarning: X has feature names, but KNeighborsClassifier was fitted without feature names\n",
      "  warnings.warn(\n",
      "/Users/manickashree/Library/Python/3.9/lib/python/site-packages/sklearn/base.py:458: UserWarning: X has feature names, but KNeighborsClassifier was fitted without feature names\n",
      "  warnings.warn(\n",
      "/Users/manickashree/Library/Python/3.9/lib/python/site-packages/sklearn/base.py:458: UserWarning: X has feature names, but KNeighborsClassifier was fitted without feature names\n",
      "  warnings.warn(\n",
      "/Users/manickashree/Library/Python/3.9/lib/python/site-packages/sklearn/base.py:458: UserWarning: X has feature names, but KNeighborsClassifier was fitted without feature names\n",
      "  warnings.warn(\n",
      "/Users/manickashree/Library/Python/3.9/lib/python/site-packages/sklearn/base.py:458: UserWarning: X has feature names, but KNeighborsClassifier was fitted without feature names\n",
      "  warnings.warn(\n",
      "/Users/manickashree/Library/Python/3.9/lib/python/site-packages/sklearn/base.py:458: UserWarning: X has feature names, but KNeighborsClassifier was fitted without feature names\n",
      "  warnings.warn(\n"
     ]
    },
    {
     "data": {
      "text/plain": [
       "Text(0, 0.5, 'Accuracy')"
      ]
     },
     "execution_count": 38,
     "metadata": {},
     "output_type": "execute_result"
    },
    {
     "data": {
      "image/png": "[encoded data removed]",
      "text/plain": [
       "<Figure size 640x480 with 1 Axes>"
      ]
     },
     "metadata": {},
     "output_type": "display_data"
    }
   ],
   "source": [
    "## Evaluating the model using KNeighborsClassifier method\n",
    "\n",
    "# Specifying the range\n",
    "range_k = range(1,15)\n",
    "scores = {}\n",
    "scores_list = []\n",
    "\n",
    "for k in range_k:\n",
    "\n",
    "    # Initialising the KNeighborsClassifier\n",
    "   classifier = KNeighborsClassifier(n_neighbors=k)\n",
    "    \n",
    "    # fitting the model\n",
    "   classifier.fit(X_train_scaled_LS_new, y_train_new)\n",
    "\n",
    "    # Predicting the model with the test data\n",
    "   y_pred_new = classifier.predict(X_test_new)\n",
    "\n",
    "    # checking the accuracy\n",
    "   scores[k] = metrics.accuracy_score(y_test_new,y_pred_new)\n",
    "   scores_list.append(metrics.accuracy_score(y_test_new,y_pred_new))\n",
    "\n",
    "# Confusion matrix\n",
    "result = metrics.confusion_matrix(y_test_new, y_pred_new)\n",
    "print(\"Confusion Matrix:\")\n",
    "print(result)\n",
    "\n",
    "# Classification report\n",
    "result1 = metrics.classification_report(y_test_new, y_pred_new)\n",
    "print(\"Classification Report:\",)\n",
    "print (result1)\n",
    "\n",
    "# Plotting the k-value with accuracy\n",
    "plt.plot(range_k,scores_list)\n",
    "plt.xlabel(\"Value of K\")\n",
    "plt.ylabel(\"Accuracy\")\n",
    "\n",
    "# classifier = KNeighborsClassifier(n_neighbors=8)\n",
    "# classifier.fit(X_train_new, y_train_new)\n",
    "\n"
   ]
  },
  {
   "cell_type": "markdown",
   "id": "724feec4-8d31-4c3c-890b-fffd17c0b8f9",
   "metadata": {},
   "source": [
    "##### Based on the plot we get a K-value of 8. Hence we are proceeding to choose n_neighbors as 8 in KNeighbors Classifier."
   ]
  },
  {
   "cell_type": "code",
   "execution_count": 41,
   "id": "d1e5d9cf-209c-45d6-8c3d-cf554cef9b4e",
   "metadata": {},
   "outputs": [
    {
     "name": "stdout",
     "output_type": "stream",
     "text": [
      "              precision    recall  f1-score   support\n",
      "\n",
      "           1       0.40      0.36      0.38        22\n",
      "           2       0.45      0.50      0.47        34\n",
      "           3       0.48      0.57      0.52        47\n",
      "           4       0.20      0.07      0.10        15\n",
      "           5       0.00      0.00      0.00         2\n",
      "\n",
      "    accuracy                           0.44       120\n",
      "   macro avg       0.31      0.30      0.30       120\n",
      "weighted avg       0.41      0.44      0.42       120\n",
      "\n"
     ]
    }
   ],
   "source": [
    "## Based on the plot choosing k=8\n",
    "\n",
    "# Intialising KNeighbors Classifier\n",
    "knn = KNeighborsClassifier(n_neighbors=8)\n",
    "\n",
    "# Fiting the model\n",
    "knn.fit(X_train_new, y_train_new)\n",
    "\n",
    "# Predictng the model\n",
    "y_pred1_new = knn.predict(X_test_new)\n",
    "\n",
    "# Classification report\n",
    "print(classification_report(y_test_new,y_pred1_new))"
   ]
  },
  {
   "cell_type": "markdown",
   "id": "57f58d79-4c76-4134-9c5d-321b7736e81f",
   "metadata": {},
   "source": [
    "##### The Shopping_Satisfaction is rated from 1 to 5. The KNN classifier is able to predict class 3 better with precision of 0.48 and recall of 0.57 compared to other classes. Overall, the accuracy is 0.44 and it can be improved and hence analysing using other classifier models."
   ]
  },
  {
   "cell_type": "markdown",
   "id": "8caef5e3-a81d-4aa9-812c-2dd4fedb87cc",
   "metadata": {},
   "source": [
    "### Decision Tree Classifier"
   ]
  },
  {
   "cell_type": "code",
   "execution_count": 25,
   "id": "4556697f-b8c4-4b23-8496-276d7d92295b",
   "metadata": {},
   "outputs": [
    {
     "name": "stdout",
     "output_type": "stream",
     "text": [
      "[2 1 2 3 2 2 2 2 2 2 2 1 1 3 1 2 2 3 2 3 2 1 3 2 3 2 3 3 2 2 3 1 3 3 4 3 3\n",
      " 4 3 4 2 3 3 2 1 2 2 2 3 2 3 2 1 2 2 3 2 3 2 2 3 2 3 3 3 3 2 4 3 2 2 2 4 3\n",
      " 3 4 2 4 3 3 2 2 3 3 3 3 3 3 4 3 3 3 3 2 3 2 3 3 2 2 2 3 3 3 2 1 1 1 2 2 3\n",
      " 2 3 2 2 4 3 1 2 3]\n"
     ]
    }
   ],
   "source": [
    "# Intialising decision tree classifier\n",
    "dt_clf = DecisionTreeClassifier(random_state=20, max_depth=3)\n",
    "\n",
    "# Fiting the model\n",
    "dt_clf.fit(X_train_new, y_train_new)\n",
    "\n",
    "# Predictng the model\n",
    "y_pred_dt_clf = dt_clf.predict(X_test_new)\n",
    "print(y_pred_dt_clf)"
   ]
  },
  {
   "cell_type": "code",
   "execution_count": 26,
   "id": "88b82d32-794d-4ec0-ab77-0a22c15d9386",
   "metadata": {
    "scrolled": true
   },
   "outputs": [
    {
     "name": "stdout",
     "output_type": "stream",
     "text": [
      "              precision    recall  f1-score   support\n",
      "\n",
      "           1       0.42      0.23      0.29        22\n",
      "           2       0.47      0.68      0.55        34\n",
      "           3       0.54      0.57      0.56        47\n",
      "           4       0.22      0.13      0.17        15\n",
      "           5       0.00      0.00      0.00         2\n",
      "\n",
      "    accuracy                           0.48       120\n",
      "   macro avg       0.33      0.32      0.31       120\n",
      "weighted avg       0.45      0.47      0.45       120\n",
      "\n"
     ]
    },
    {
     "name": "stderr",
     "output_type": "stream",
     "text": [
      "/Users/manickashree/Library/Python/3.9/lib/python/site-packages/sklearn/metrics/_classification.py:1471: UndefinedMetricWarning: Precision and F-score are ill-defined and being set to 0.0 in labels with no predicted samples. Use `zero_division` parameter to control this behavior.\n",
      "  _warn_prf(average, modifier, msg_start, len(result))\n",
      "/Users/manickashree/Library/Python/3.9/lib/python/site-packages/sklearn/metrics/_classification.py:1471: UndefinedMetricWarning: Precision and F-score are ill-defined and being set to 0.0 in labels with no predicted samples. Use `zero_division` parameter to control this behavior.\n",
      "  _warn_prf(average, modifier, msg_start, len(result))\n",
      "/Users/manickashree/Library/Python/3.9/lib/python/site-packages/sklearn/metrics/_classification.py:1471: UndefinedMetricWarning: Precision and F-score are ill-defined and being set to 0.0 in labels with no predicted samples. Use `zero_division` parameter to control this behavior.\n",
      "  _warn_prf(average, modifier, msg_start, len(result))\n"
     ]
    }
   ],
   "source": [
    "# Classification report\n",
    "print(classification_report(y_test_new,y_pred_dt_clf))"
   ]
  },
  {
   "cell_type": "markdown",
   "id": "6f7e4ba1-2b3e-4d03-9542-8b7674dd7382",
   "metadata": {},
   "source": [
    "##### From the classification report of Decision Tree classifier, we notice there is improvement in the overall model accuracy which is 0.48. Also all classes except class 5, has better precision compared to KNN classifier. However, this can be improved further hence proceeding with Random Forest Classifier."
   ]
  },
  {
   "cell_type": "markdown",
   "id": "5301feff-e2dc-4c20-b9bf-e6fc4a33e0bd",
   "metadata": {},
   "source": [
    "### Random Forest Classifier"
   ]
  },
  {
   "cell_type": "code",
   "execution_count": 27,
   "id": "dfbd8431-8339-4c37-b84e-27dee19b6e1a",
   "metadata": {},
   "outputs": [
    {
     "name": "stdout",
     "output_type": "stream",
     "text": [
      "[2 2 2 3 3 2 2 2 2 1 2 1 1 3 1 2 2 3 3 3 2 1 3 2 3 2 3 3 2 2 3 1 3 3 4 3 3\n",
      " 4 3 4 2 2 3 3 1 2 2 2 3 2 3 2 2 1 1 3 1 3 2 1 3 2 3 3 3 3 2 4 3 1 2 2 2 3\n",
      " 3 4 2 4 3 3 2 2 3 3 3 3 2 3 4 3 3 2 3 3 3 1 2 2 2 2 1 2 3 3 1 1 2 2 3 2 3\n",
      " 1 3 3 2 2 3 1 2 3]\n",
      "              precision    recall  f1-score   support\n",
      "\n",
      "           1       0.50      0.41      0.45        22\n",
      "           2       0.47      0.62      0.53        34\n",
      "           3       0.54      0.57      0.56        47\n",
      "           4       0.29      0.13      0.18        15\n",
      "           5       0.00      0.00      0.00         2\n",
      "\n",
      "    accuracy                           0.49       120\n",
      "   macro avg       0.36      0.35      0.34       120\n",
      "weighted avg       0.47      0.49      0.47       120\n",
      "\n"
     ]
    },
    {
     "name": "stderr",
     "output_type": "stream",
     "text": [
      "/Users/manickashree/Library/Python/3.9/lib/python/site-packages/sklearn/metrics/_classification.py:1471: UndefinedMetricWarning: Precision and F-score are ill-defined and being set to 0.0 in labels with no predicted samples. Use `zero_division` parameter to control this behavior.\n",
      "  _warn_prf(average, modifier, msg_start, len(result))\n",
      "/Users/manickashree/Library/Python/3.9/lib/python/site-packages/sklearn/metrics/_classification.py:1471: UndefinedMetricWarning: Precision and F-score are ill-defined and being set to 0.0 in labels with no predicted samples. Use `zero_division` parameter to control this behavior.\n",
      "  _warn_prf(average, modifier, msg_start, len(result))\n",
      "/Users/manickashree/Library/Python/3.9/lib/python/site-packages/sklearn/metrics/_classification.py:1471: UndefinedMetricWarning: Precision and F-score are ill-defined and being set to 0.0 in labels with no predicted samples. Use `zero_division` parameter to control this behavior.\n",
      "  _warn_prf(average, modifier, msg_start, len(result))\n"
     ]
    }
   ],
   "source": [
    "# Intialising Random Forest classifier with min_samples_split of 5\n",
    "\n",
    "rf_clf = RandomForestClassifier(min_samples_split= 5)\n",
    "\n",
    "# Fiting the model\n",
    "rf_clf.fit(X_train_new,y_train_new)\n",
    "\n",
    "# Predictng the model\n",
    "y_pred_rf_clf = rf_clf.predict(X_test_new)\n",
    "print(y_pred_rf_clf)\n",
    "\n",
    "# Classification report\n",
    "print(classification_report(y_test_new, y_pred_rf_clf))"
   ]
  },
  {
   "cell_type": "markdown",
   "id": "e2a1e49d-4e56-4276-b888-ff7a8de9f945",
   "metadata": {},
   "source": [
    "##### From the classification report of Random Forest classifier, we notice there is improvement in the overall model accuracy which is 0.49. Also all classes except class 5, has better precision and recall compared to the previous two classifiers. However, this can be improved further hence proceed to check the performace of XGBoost Classifier."
   ]
  },
  {
   "cell_type": "markdown",
   "id": "9957510b-a418-4c17-95d8-c84d375ac7c9",
   "metadata": {},
   "source": [
    "### XGBoost Classifier"
   ]
  },
  {
   "cell_type": "code",
   "execution_count": 44,
   "id": "f8a8a6f9-c42b-4935-aae2-14d52711b1c8",
   "metadata": {
    "scrolled": true
   },
   "outputs": [
    {
     "name": "stdout",
     "output_type": "stream",
     "text": [
      "[1 1 1 2 2 1 1 2 1 0 3 0 0 2 0 0 1 2 0 1 1 0 4 1 2 1 2 2 0 1 1 0 2 2 0 2 2\n",
      " 3 2 3 0 1 2 2 0 1 0 1 2 1 2 1 1 0 0 2 0 2 1 0 3 1 2 2 2 2 1 3 1 0 2 1 1 2\n",
      " 2 3 1 3 2 2 1 1 2 3 2 2 1 2 3 1 2 1 2 1 2 0 1 1 1 2 0 1 2 2 0 0 1 0 3 1 2\n",
      " 0 2 2 1 0 4 1 1 1]\n",
      "              precision    recall  f1-score   support\n",
      "\n",
      "           0       0.40      0.45      0.43        22\n",
      "           1       0.48      0.59      0.53        34\n",
      "           2       0.56      0.49      0.52        47\n",
      "           3       0.30      0.20      0.24        15\n",
      "           4       0.00      0.00      0.00         2\n",
      "\n",
      "    accuracy                           0.47       120\n",
      "   macro avg       0.35      0.35      0.34       120\n",
      "weighted avg       0.47      0.47      0.46       120\n",
      "\n"
     ]
    }
   ],
   "source": [
    "## Since by default, XGBoost assumes input categories are integers starting from 0 we are doing the required adjustements.\n",
    "y_train_new_adjusted = y_train_new - 1\n",
    "y_test_new_adjusted = y_test_new - 1\n",
    "\n",
    "# Intialising XG Boost classifier\n",
    "xgb_clf = XGBClassifier()\n",
    "\n",
    "# Fiting the model\n",
    "xgb_clf.fit(X_train_new,y_train_new_adjusted)\n",
    "\n",
    "# Predictng the model\n",
    "y_pred_xgb_clf = xgb_clf.predict(X_test_new)\n",
    "print(y_pred_xgb_clf)\n",
    "\n",
    "# Classification report\n",
    "print(classification_report(y_test_new_adjusted, y_pred_xgb_clf))\n",
    "\n",
    "\n",
    "# Adjusting predicted labels back to original\n",
    "# y_pred_xgb_clf_adjusted = y_pred_xgb_clf + 1\n",
    "\n",
    "# print(y_pred_xgb_clf_adjusted)\n",
    "# print(classification_report(y_test_new_adjusted, y_pred_xgb_clf_adjusted))\n"
   ]
  },
  {
   "cell_type": "markdown",
   "id": "7d5bc628-73dd-4179-abd2-1f94bddff51f",
   "metadata": {},
   "source": [
    "##### The performance of XGBoost is not as good as Random forest claasifier as the precision and recall of all classed are less compared to the Random forest claasifier with overall model accuaracy of 0.47.  Hence we are choosing Random forest claasifier."
   ]
  },
  {
   "cell_type": "markdown",
   "id": "bf39a1a4",
   "metadata": {},
   "source": [
    "### Unsupervised Learning \n",
    "### K-mean clustering"
   ]
  },
  {
   "cell_type": "code",
   "execution_count": 67,
   "id": "bf4999b9-91da-4605-bff5-d4d653b56b67",
   "metadata": {},
   "outputs": [
    {
     "data": {
      "text/html": [
       "<div>\n",
       "<style scoped>\n",
       "    .dataframe tbody tr th:only-of-type {\n",
       "        vertical-align: middle;\n",
       "    }\n",
       "\n",
       "    .dataframe tbody tr th {\n",
       "        vertical-align: top;\n",
       "    }\n",
       "\n",
       "    .dataframe thead th {\n",
       "        text-align: right;\n",
       "    }\n",
       "</style>\n",
       "<table border=\"1\" class=\"dataframe\">\n",
       "  <thead>\n",
       "    <tr style=\"text-align: right;\">\n",
       "      <th></th>\n",
       "      <th>Timestamp</th>\n",
       "      <th>age</th>\n",
       "      <th>Gender</th>\n",
       "      <th>Purchase_Frequency</th>\n",
       "      <th>Purchase_Categories</th>\n",
       "      <th>Personalized_Recommendation_Frequency</th>\n",
       "      <th>Browsing_Frequency</th>\n",
       "      <th>Product_Search_Method</th>\n",
       "      <th>Search_Result_Exploration</th>\n",
       "      <th>Customer_Reviews_Importance</th>\n",
       "      <th>...</th>\n",
       "      <th>Saveforlater_Frequency</th>\n",
       "      <th>Review_Left</th>\n",
       "      <th>Review_Reliability</th>\n",
       "      <th>Review_Helpfulness</th>\n",
       "      <th>Personalized_Recommendation_Frequency</th>\n",
       "      <th>Recommendation_Helpfulness</th>\n",
       "      <th>Rating_Accuracy</th>\n",
       "      <th>Shopping_Satisfaction</th>\n",
       "      <th>Service_Appreciation</th>\n",
       "      <th>Improvement_Areas</th>\n",
       "    </tr>\n",
       "  </thead>\n",
       "  <tbody>\n",
       "    <tr>\n",
       "      <th>0</th>\n",
       "      <td>2023/06/04 1:28:19 PM GMT+5:30</td>\n",
       "      <td>23</td>\n",
       "      <td>Female</td>\n",
       "      <td>Few times a month</td>\n",
       "      <td>Beauty and Personal Care</td>\n",
       "      <td>Yes</td>\n",
       "      <td>Few times a week</td>\n",
       "      <td>Keyword</td>\n",
       "      <td>Multiple pages</td>\n",
       "      <td>1</td>\n",
       "      <td>...</td>\n",
       "      <td>Sometimes</td>\n",
       "      <td>Yes</td>\n",
       "      <td>Occasionally</td>\n",
       "      <td>Yes</td>\n",
       "      <td>2</td>\n",
       "      <td>Yes</td>\n",
       "      <td>1</td>\n",
       "      <td>1</td>\n",
       "      <td>Competitive prices</td>\n",
       "      <td>Reducing packaging waste</td>\n",
       "    </tr>\n",
       "    <tr>\n",
       "      <th>1</th>\n",
       "      <td>2023/06/04 2:30:44 PM GMT+5:30</td>\n",
       "      <td>23</td>\n",
       "      <td>Female</td>\n",
       "      <td>Once a month</td>\n",
       "      <td>Clothing and Fashion</td>\n",
       "      <td>Yes</td>\n",
       "      <td>Few times a month</td>\n",
       "      <td>Keyword</td>\n",
       "      <td>Multiple pages</td>\n",
       "      <td>1</td>\n",
       "      <td>...</td>\n",
       "      <td>Rarely</td>\n",
       "      <td>No</td>\n",
       "      <td>Heavily</td>\n",
       "      <td>Yes</td>\n",
       "      <td>2</td>\n",
       "      <td>Sometimes</td>\n",
       "      <td>3</td>\n",
       "      <td>2</td>\n",
       "      <td>Wide product selection</td>\n",
       "      <td>Reducing packaging waste</td>\n",
       "    </tr>\n",
       "    <tr>\n",
       "      <th>2</th>\n",
       "      <td>2023/06/04 5:04:56 PM GMT+5:30</td>\n",
       "      <td>24</td>\n",
       "      <td>Prefer not to say</td>\n",
       "      <td>Few times a month</td>\n",
       "      <td>Groceries and Gourmet Food;Clothing and Fashion</td>\n",
       "      <td>No</td>\n",
       "      <td>Few times a month</td>\n",
       "      <td>Keyword</td>\n",
       "      <td>Multiple pages</td>\n",
       "      <td>2</td>\n",
       "      <td>...</td>\n",
       "      <td>Rarely</td>\n",
       "      <td>No</td>\n",
       "      <td>Occasionally</td>\n",
       "      <td>No</td>\n",
       "      <td>4</td>\n",
       "      <td>No</td>\n",
       "      <td>3</td>\n",
       "      <td>3</td>\n",
       "      <td>Competitive prices</td>\n",
       "      <td>Product quality and accuracy</td>\n",
       "    </tr>\n",
       "    <tr>\n",
       "      <th>3</th>\n",
       "      <td>2023/06/04 5:13:00 PM GMT+5:30</td>\n",
       "      <td>24</td>\n",
       "      <td>Female</td>\n",
       "      <td>Once a month</td>\n",
       "      <td>Beauty and Personal Care;Clothing and Fashion;...</td>\n",
       "      <td>Sometimes</td>\n",
       "      <td>Few times a month</td>\n",
       "      <td>Keyword</td>\n",
       "      <td>First page</td>\n",
       "      <td>5</td>\n",
       "      <td>...</td>\n",
       "      <td>Sometimes</td>\n",
       "      <td>Yes</td>\n",
       "      <td>Heavily</td>\n",
       "      <td>Yes</td>\n",
       "      <td>3</td>\n",
       "      <td>Sometimes</td>\n",
       "      <td>3</td>\n",
       "      <td>4</td>\n",
       "      <td>Competitive prices</td>\n",
       "      <td>Product quality and accuracy</td>\n",
       "    </tr>\n",
       "    <tr>\n",
       "      <th>4</th>\n",
       "      <td>2023/06/04 5:28:06 PM GMT+5:30</td>\n",
       "      <td>22</td>\n",
       "      <td>Female</td>\n",
       "      <td>Less than once a month</td>\n",
       "      <td>Beauty and Personal Care;Clothing and Fashion</td>\n",
       "      <td>Yes</td>\n",
       "      <td>Few times a month</td>\n",
       "      <td>Filter</td>\n",
       "      <td>Multiple pages</td>\n",
       "      <td>1</td>\n",
       "      <td>...</td>\n",
       "      <td>Rarely</td>\n",
       "      <td>No</td>\n",
       "      <td>Heavily</td>\n",
       "      <td>Yes</td>\n",
       "      <td>4</td>\n",
       "      <td>Yes</td>\n",
       "      <td>2</td>\n",
       "      <td>2</td>\n",
       "      <td>Competitive prices</td>\n",
       "      <td>Product quality and accuracy</td>\n",
       "    </tr>\n",
       "  </tbody>\n",
       "</table>\n",
       "<p>5 rows × 23 columns</p>\n",
       "</div>"
      ],
      "text/plain": [
       "                        Timestamp  age             Gender  \\\n",
       "0  2023/06/04 1:28:19 PM GMT+5:30   23             Female   \n",
       "1  2023/06/04 2:30:44 PM GMT+5:30   23             Female   \n",
       "2  2023/06/04 5:04:56 PM GMT+5:30   24  Prefer not to say   \n",
       "3  2023/06/04 5:13:00 PM GMT+5:30   24             Female   \n",
       "4  2023/06/04 5:28:06 PM GMT+5:30   22             Female   \n",
       "\n",
       "       Purchase_Frequency                                Purchase_Categories  \\\n",
       "0       Few times a month                           Beauty and Personal Care   \n",
       "1            Once a month                               Clothing and Fashion   \n",
       "2       Few times a month    Groceries and Gourmet Food;Clothing and Fashion   \n",
       "3            Once a month  Beauty and Personal Care;Clothing and Fashion;...   \n",
       "4  Less than once a month      Beauty and Personal Care;Clothing and Fashion   \n",
       "\n",
       "  Personalized_Recommendation_Frequency Browsing_Frequency  \\\n",
       "0                                   Yes   Few times a week   \n",
       "1                                   Yes  Few times a month   \n",
       "2                                    No  Few times a month   \n",
       "3                             Sometimes  Few times a month   \n",
       "4                                   Yes  Few times a month   \n",
       "\n",
       "  Product_Search_Method Search_Result_Exploration  \\\n",
       "0               Keyword            Multiple pages   \n",
       "1               Keyword            Multiple pages   \n",
       "2               Keyword            Multiple pages   \n",
       "3               Keyword                First page   \n",
       "4                Filter            Multiple pages   \n",
       "\n",
       "   Customer_Reviews_Importance  ... Saveforlater_Frequency Review_Left  \\\n",
       "0                            1  ...              Sometimes         Yes   \n",
       "1                            1  ...                 Rarely          No   \n",
       "2                            2  ...                 Rarely          No   \n",
       "3                            5  ...              Sometimes         Yes   \n",
       "4                            1  ...                 Rarely          No   \n",
       "\n",
       "  Review_Reliability Review_Helpfulness  \\\n",
       "0       Occasionally                Yes   \n",
       "1            Heavily                Yes   \n",
       "2       Occasionally                 No   \n",
       "3            Heavily                Yes   \n",
       "4            Heavily                Yes   \n",
       "\n",
       "  Personalized_Recommendation_Frequency  Recommendation_Helpfulness  \\\n",
       "0                                      2                        Yes   \n",
       "1                                      2                  Sometimes   \n",
       "2                                      4                         No   \n",
       "3                                      3                  Sometimes   \n",
       "4                                      4                        Yes   \n",
       "\n",
       "  Rating_Accuracy   Shopping_Satisfaction    Service_Appreciation  \\\n",
       "0                1                      1      Competitive prices   \n",
       "1                3                      2  Wide product selection   \n",
       "2                3                      3      Competitive prices   \n",
       "3                3                      4      Competitive prices   \n",
       "4                2                      2      Competitive prices   \n",
       "\n",
       "              Improvement_Areas  \n",
       "0      Reducing packaging waste  \n",
       "1      Reducing packaging waste  \n",
       "2  Product quality and accuracy  \n",
       "3  Product quality and accuracy  \n",
       "4  Product quality and accuracy  \n",
       "\n",
       "[5 rows x 23 columns]"
      ]
     },
     "execution_count": 67,
     "metadata": {},
     "output_type": "execute_result"
    }
   ],
   "source": [
    "amazon_data1 = pd.read_csv('Amazon Customer Behavior Survey.csv')\n",
    "\n",
    "amazon_data1.head()\n"
   ]
  },
  {
   "cell_type": "code",
   "execution_count": 68,
   "id": "81415695",
   "metadata": {
    "scrolled": true
   },
   "outputs": [
    {
     "name": "stdout",
     "output_type": "stream",
     "text": [
      "Product_Search_Method    2\n",
      "Shopping_Satisfaction    0\n",
      "dtype: int64\n"
     ]
    },
    {
     "name": "stderr",
     "output_type": "stream",
     "text": [
      "/Users/manickashree/Library/Python/3.9/lib/python/site-packages/sklearn/cluster/_kmeans.py:1416: FutureWarning: The default value of `n_init` will change from 10 to 'auto' in 1.4. Set the value of `n_init` explicitly to suppress the warning\n",
      "  super()._check_params_vs_input(X, default_n_init=10)\n",
      "/Users/manickashree/Library/Python/3.9/lib/python/site-packages/sklearn/cluster/_kmeans.py:1416: FutureWarning: The default value of `n_init` will change from 10 to 'auto' in 1.4. Set the value of `n_init` explicitly to suppress the warning\n",
      "  super()._check_params_vs_input(X, default_n_init=10)\n",
      "/Users/manickashree/Library/Python/3.9/lib/python/site-packages/sklearn/cluster/_kmeans.py:1416: FutureWarning: The default value of `n_init` will change from 10 to 'auto' in 1.4. Set the value of `n_init` explicitly to suppress the warning\n",
      "  super()._check_params_vs_input(X, default_n_init=10)\n",
      "/Users/manickashree/Library/Python/3.9/lib/python/site-packages/sklearn/cluster/_kmeans.py:1416: FutureWarning: The default value of `n_init` will change from 10 to 'auto' in 1.4. Set the value of `n_init` explicitly to suppress the warning\n",
      "  super()._check_params_vs_input(X, default_n_init=10)\n",
      "/Users/manickashree/Library/Python/3.9/lib/python/site-packages/sklearn/cluster/_kmeans.py:1416: FutureWarning: The default value of `n_init` will change from 10 to 'auto' in 1.4. Set the value of `n_init` explicitly to suppress the warning\n",
      "  super()._check_params_vs_input(X, default_n_init=10)\n",
      "/Users/manickashree/Library/Python/3.9/lib/python/site-packages/sklearn/cluster/_kmeans.py:1416: FutureWarning: The default value of `n_init` will change from 10 to 'auto' in 1.4. Set the value of `n_init` explicitly to suppress the warning\n",
      "  super()._check_params_vs_input(X, default_n_init=10)\n",
      "/Users/manickashree/Library/Python/3.9/lib/python/site-packages/sklearn/cluster/_kmeans.py:1416: FutureWarning: The default value of `n_init` will change from 10 to 'auto' in 1.4. Set the value of `n_init` explicitly to suppress the warning\n",
      "  super()._check_params_vs_input(X, default_n_init=10)\n",
      "/Users/manickashree/Library/Python/3.9/lib/python/site-packages/sklearn/cluster/_kmeans.py:1416: FutureWarning: The default value of `n_init` will change from 10 to 'auto' in 1.4. Set the value of `n_init` explicitly to suppress the warning\n",
      "  super()._check_params_vs_input(X, default_n_init=10)\n",
      "/Users/manickashree/Library/Python/3.9/lib/python/site-packages/sklearn/cluster/_kmeans.py:1416: FutureWarning: The default value of `n_init` will change from 10 to 'auto' in 1.4. Set the value of `n_init` explicitly to suppress the warning\n",
      "  super()._check_params_vs_input(X, default_n_init=10)\n"
     ]
    },
    {
     "data": {
      "image/png": "[encoded data removed]",
      "text/plain": [
       "<Figure size 1000x600 with 1 Axes>"
      ]
     },
     "metadata": {},
     "output_type": "display_data"
    }
   ],
   "source": [
    "### Creating clusters using Product_Search_Method and Shopping_Satisfaction.\n",
    "# Encoding \"Product_Search_Method\" \n",
    "Product_Search_Method_Mapping = {\n",
    "    'others': 1,\n",
    "    'Keyword': 2,\n",
    "    'Filter': 3,\n",
    "    'categories': 4\n",
    "}\n",
    "\n",
    "amazon_data1['Product_Search_Method'] = amazon_data1['Product_Search_Method'].map(Product_Search_Method_Mapping)\n",
    "\n",
    "print(amazon_data1[['Product_Search_Method', 'Shopping_Satisfaction']].isna().sum())\n",
    "\n",
    "\n",
    "# Extract the variables\n",
    "X_clustering = amazon_data1[['Product_Search_Method', 'Shopping_Satisfaction']].dropna()\n",
    "\n",
    "# Standardize the features\n",
    "scaler = StandardScaler()\n",
    "X_clustering_standardized = scaler.fit_transform(X_clustering)\n",
    "\n",
    "# Find the optimal number of clusters with Elbow Plot\n",
    "inertia = []\n",
    "K_range = range(1, 10)  \n",
    "\n",
    "for k in K_range:\n",
    "    kmeans = KMeans(n_clusters=k, random_state=42)\n",
    "    kmeans.fit(X_clustering_standardized)\n",
    "    inertia.append(kmeans.inertia_)\n",
    "\n",
    "# Plot the Elbow Plot\n",
    "plt.figure(figsize=(10, 6))\n",
    "plt.plot(K_range, inertia, '-o')\n",
    "plt.title('The Elbow Method showing the optimal k')\n",
    "plt.xlabel('Number of clusters')\n",
    "plt.ylabel('Inertia')\n",
    "plt.xticks(K_range)\n",
    "plt.grid(True)\n",
    "plt.show()\n"
   ]
  },
  {
   "cell_type": "markdown",
   "id": "0975fd3c-9dc6-4b37-9302-74b3dc59c842",
   "metadata": {},
   "source": [
    "##### From the elbow plot we can infer that the optimal number of clusters for this dataset is 4. Hence we will be performing K-means with  k = 4."
   ]
  },
  {
   "cell_type": "code",
   "execution_count": 74,
   "id": "9b42f7c6",
   "metadata": {},
   "outputs": [
    {
     "name": "stderr",
     "output_type": "stream",
     "text": [
      "/Users/manickashree/Library/Python/3.9/lib/python/site-packages/sklearn/cluster/_kmeans.py:1416: FutureWarning: The default value of `n_init` will change from 10 to 'auto' in 1.4. Set the value of `n_init` explicitly to suppress the warning\n",
      "  super()._check_params_vs_input(X, default_n_init=10)\n"
     ]
    },
    {
     "data": {
      "image/png": "[encoded data removed]",
      "text/plain": [
       "<Figure size 1000x600 with 1 Axes>"
      ]
     },
     "metadata": {},
     "output_type": "display_data"
    }
   ],
   "source": [
    "# Perform K-means cluster with K = 4\n",
    "kmeans_optimal = KMeans(n_clusters=4, random_state=42)\n",
    "kmeans_optimal.fit(X_clustering_standardized)\n",
    "cluster_labels = kmeans_optimal.labels_\n",
    "\n",
    "# cluster_colors = amazon_data1['Product_Search_Method'].map({1: 'yellow', 2: 'Green',3: 'Blue', 4: 'Purple'}).tolist() \n",
    "\n",
    "# Ploting the clusters\n",
    "plt.figure(figsize=(10, 6))\n",
    "plt.scatter(X_clustering_standardized[:, 0], X_clustering_standardized[:, 1], c=cluster_labels, cmap='viridis', marker='o', edgecolor='black', s=50)\n",
    "plt.title('Clusters of Amazon Customers with K=4')\n",
    "plt.xlabel('Standardized Product Search Method')\n",
    "plt.ylabel('Standardized Shopping Satisfaction')\n",
    "centers = kmeans_optimal.cluster_centers_\n",
    "plt.scatter(centers[:, 0], centers[:, 1], c='red', s=200, alpha=0.5, marker='X')  # Mark cluster centers\n",
    "plt.show()\n"
   ]
  },
  {
   "cell_type": "markdown",
   "id": "667c0c76-2e09-4b95-9184-82abf0f298a3",
   "metadata": {},
   "source": [
    "#### Yellow group: Customers in this group may have used other search methods than keywords, filters, and categories. They showed relatively low scores on search satisfaction, which may mean that this search method did not give them a satisfactory shopping experience.\n",
    "\n",
    "#### Purple group: These customers may use category search methods more and score lower on shopping satisfaction, possibly indicating that even if they search specifically for a category, they may not always find a product that satisfies them.\n",
    "\n",
    "#### Blue group: Customers in this group may tend to use filters for product searches and exhibit higher scores on shopping satisfaction, suggesting that using filters for search may be associated with higher satisfaction.\n",
    "\n",
    "#### Green group: This group may be more likely to use keyword searches, and their satisfaction scores span a wide range, indicating that even with clear search intent, satisfaction may vary from person to person."
   ]
  },
  {
   "cell_type": "markdown",
   "id": "8b317b92-0668-494d-ad1f-322baeba3793",
   "metadata": {},
   "source": [
    "##### The plot shows the clustering of Amazon customers based on their standardized product search method and shopping satisfaction, using K-means with k = 4 clusters. The data points are colored based on their cluster assignment, and the red X marks represent the centroids of the clusters. The plot suggests that there are distinct groups of customers with varying levels of satisfaction and preferences for product search methods, which could be leveraged for targeted marketing strategies."
   ]
  },
  {
   "cell_type": "markdown",
   "id": "88bca558-a91f-43ec-83e5-1e0981a1ff86",
   "metadata": {},
   "source": [
    "##### Hence we can infer that the Random Forest Classifier is able to clasify customer satisfication better compared to other models."
   ]
  }
 ],
 "metadata": {
  "kernelspec": {
   "display_name": "Python 3 (ipykernel)",
   "language": "python",
   "name": "python3"
  },
  "language_info": {
   "codemirror_mode": {
    "name": "ipython",
    "version": 3
   },
   "file_extension": ".py",
   "mimetype": "text/x-python",
   "name": "python",
   "nbconvert_exporter": "python",
   "pygments_lexer": "ipython3",
   "version": "3.9.6"
  }
 },
 "nbformat": 4,
 "nbformat_minor": 5
}
